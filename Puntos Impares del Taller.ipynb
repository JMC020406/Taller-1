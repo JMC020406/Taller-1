{
 "cells": [
  {
   "cell_type": "code",
   "execution_count": 1,
   "metadata": {},
   "outputs": [
    {
     "name": "stdout",
     "output_type": "stream",
     "text": [
      "8 es un número par.\n"
     ]
    }
   ],
   "source": [
    "# Solicitar al usuario que ingrese un número entero\n",
    "numero = int(input(\"Ingrese un número entero: \"))\n",
    "\n",
    "# Determinar si el número es par o impar\n",
    "if numero % 2 == 0:\n",
    "    print(numero, \"es un número par.\")\n",
    "else:\n",
    "    print(numero, \"es un número impar.\")\n"
   ]
  }
 ],
 "metadata": {
  "kernelspec": {
   "display_name": "Python 3",
   "language": "python",
   "name": "python3"
  },
  "language_info": {
   "codemirror_mode": {
    "name": "ipython",
    "version": 3
   },
   "file_extension": ".py",
   "mimetype": "text/x-python",
   "name": "python",
   "nbconvert_exporter": "python",
   "pygments_lexer": "ipython3",
   "version": "3.12.2"
  }
 },
 "nbformat": 4,
 "nbformat_minor": 2
}
